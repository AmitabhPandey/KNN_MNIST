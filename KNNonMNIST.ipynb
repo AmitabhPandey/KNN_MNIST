{
  "nbformat": 4,
  "nbformat_minor": 0,
  "metadata": {
    "colab": {
      "provenance": []
    },
    "kernelspec": {
      "name": "python3",
      "display_name": "Python 3"
    },
    "language_info": {
      "name": "python"
    }
  },
  "cells": [
    {
      "cell_type": "code",
      "execution_count": 1,
      "metadata": {
        "id": "LvLIAYvep-pS"
      },
      "outputs": [],
      "source": [
        "import scipy.io as sio\n",
        "import numpy as np\n",
        "import time\n",
        "\n",
        "# Load and reshape data\n",
        "mnistData = sio.loadmat('mnistData.mat')\n",
        "training_images = mnistData['mnist'][0][0][0].reshape(28*28, 60000).astype(np.uint8)\n",
        "testing_images = mnistData['mnist'][0][0][1].reshape(28*28, 10000).astype(np.uint8)\n",
        "training_labels = mnistData['mnist'][0][0][2].flatten()\n",
        "testing_labels = mnistData['mnist'][0][0][3].flatten()"
      ]
    },
    {
      "cell_type": "code",
      "source": [
        "\n",
        "def compute_all_distances(training_images, test_image):\n",
        "    # L2 distance = sum((a - b)^2) = sum(a^2) + sum(b^2) - 2*a.b\n",
        "    a2 = np.sum(training_images.astype(np.int32)**2, axis=0)\n",
        "    b2 = np.sum(test_image.astype(np.int32)**2)\n",
        "    ab = training_images.T @ test_image.astype(np.int32)\n",
        "    dists = a2 - 2 * ab + b2\n",
        "    return dists"
      ],
      "metadata": {
        "id": "51nbGF7qzXRF"
      },
      "execution_count": 2,
      "outputs": []
    },
    {
      "cell_type": "code",
      "source": [
        "def nearest_neighbor_labels(k, training_images, training_labels, test_image):\n",
        "    distances = compute_all_distances(training_images, test_image)\n",
        "    nearest_indices = np.argsort(distances)[:k]\n",
        "    return training_labels[nearest_indices]"
      ],
      "metadata": {
        "id": "RXBFvzAy712h"
      },
      "execution_count": 3,
      "outputs": []
    },
    {
      "cell_type": "code",
      "source": [
        "import time\n",
        "# Evaluation\n",
        "knn_one_correct = 0\n",
        "knn_three_correct = 0\n",
        "\n",
        "start_time = time.time()\n",
        "for i in range(testing_images.shape[1]):\n",
        "    if i % 100 == 0:\n",
        "        print(f\"Processing image {i}/{testing_images.shape[1]}...\")\n",
        "\n",
        "    nearest = nearest_neighbor_labels(3, training_images, training_labels, testing_images[:, i])\n",
        "\n",
        "    knn_one = nearest[0]\n",
        "    knn_three = np.bincount(nearest).argmax()\n",
        "\n",
        "    if testing_labels[i] == knn_one:\n",
        "        knn_one_correct += 1\n",
        "    if testing_labels[i] == knn_three:\n",
        "        knn_three_correct += 1\n",
        "\n",
        "# Results\n",
        "total = testing_images.shape[1]\n",
        "print(\"Time taken:\", time.time() - start_time)\n",
        "print(\"Misclassification rate (k=1):\", 1 - knn_one_correct / total)\n",
        "print(\"Misclassification rate (k=3):\", 1 - knn_three_correct / total)"
      ],
      "metadata": {
        "colab": {
          "base_uri": "https://localhost:8080/"
        },
        "id": "XgwsE8RPHmn4",
        "outputId": "e4eb316a-cb71-4e1f-ff1b-923a332a820d"
      },
      "execution_count": 4,
      "outputs": [
        {
          "output_type": "stream",
          "name": "stdout",
          "text": [
            "Processing image 0/10000...\n",
            "Processing image 100/10000...\n",
            "Processing image 200/10000...\n",
            "Processing image 300/10000...\n",
            "Processing image 400/10000...\n",
            "Processing image 500/10000...\n",
            "Processing image 600/10000...\n",
            "Processing image 700/10000...\n",
            "Processing image 800/10000...\n",
            "Processing image 900/10000...\n",
            "Processing image 1000/10000...\n",
            "Processing image 1100/10000...\n",
            "Processing image 1200/10000...\n",
            "Processing image 1300/10000...\n",
            "Processing image 1400/10000...\n",
            "Processing image 1500/10000...\n",
            "Processing image 1600/10000...\n",
            "Processing image 1700/10000...\n",
            "Processing image 1800/10000...\n",
            "Processing image 1900/10000...\n",
            "Processing image 2000/10000...\n",
            "Processing image 2100/10000...\n",
            "Processing image 2200/10000...\n",
            "Processing image 2300/10000...\n",
            "Processing image 2400/10000...\n",
            "Processing image 2500/10000...\n",
            "Processing image 2600/10000...\n",
            "Processing image 2700/10000...\n",
            "Processing image 2800/10000...\n",
            "Processing image 2900/10000...\n",
            "Processing image 3000/10000...\n",
            "Processing image 3100/10000...\n",
            "Processing image 3200/10000...\n",
            "Processing image 3300/10000...\n",
            "Processing image 3400/10000...\n",
            "Processing image 3500/10000...\n",
            "Processing image 3600/10000...\n",
            "Processing image 3700/10000...\n",
            "Processing image 3800/10000...\n",
            "Processing image 3900/10000...\n",
            "Processing image 4000/10000...\n",
            "Processing image 4100/10000...\n",
            "Processing image 4200/10000...\n",
            "Processing image 4300/10000...\n",
            "Processing image 4400/10000...\n",
            "Processing image 4500/10000...\n",
            "Processing image 4600/10000...\n",
            "Processing image 4700/10000...\n",
            "Processing image 4800/10000...\n",
            "Processing image 4900/10000...\n",
            "Processing image 5000/10000...\n",
            "Processing image 5100/10000...\n",
            "Processing image 5200/10000...\n",
            "Processing image 5300/10000...\n",
            "Processing image 5400/10000...\n",
            "Processing image 5500/10000...\n",
            "Processing image 5600/10000...\n",
            "Processing image 5700/10000...\n",
            "Processing image 5800/10000...\n",
            "Processing image 5900/10000...\n",
            "Processing image 6000/10000...\n",
            "Processing image 6100/10000...\n",
            "Processing image 6200/10000...\n",
            "Processing image 6300/10000...\n",
            "Processing image 6400/10000...\n",
            "Processing image 6500/10000...\n",
            "Processing image 6600/10000...\n",
            "Processing image 6700/10000...\n",
            "Processing image 6800/10000...\n",
            "Processing image 6900/10000...\n",
            "Processing image 7000/10000...\n",
            "Processing image 7100/10000...\n",
            "Processing image 7200/10000...\n",
            "Processing image 7300/10000...\n",
            "Processing image 7400/10000...\n",
            "Processing image 7500/10000...\n",
            "Processing image 7600/10000...\n",
            "Processing image 7700/10000...\n",
            "Processing image 7800/10000...\n",
            "Processing image 7900/10000...\n",
            "Processing image 8000/10000...\n",
            "Processing image 8100/10000...\n",
            "Processing image 8200/10000...\n",
            "Processing image 8300/10000...\n",
            "Processing image 8400/10000...\n",
            "Processing image 8500/10000...\n",
            "Processing image 8600/10000...\n",
            "Processing image 8700/10000...\n",
            "Processing image 8800/10000...\n",
            "Processing image 8900/10000...\n",
            "Processing image 9000/10000...\n",
            "Processing image 9100/10000...\n",
            "Processing image 9200/10000...\n",
            "Processing image 9300/10000...\n",
            "Processing image 9400/10000...\n",
            "Processing image 9500/10000...\n",
            "Processing image 9600/10000...\n",
            "Processing image 9700/10000...\n",
            "Processing image 9800/10000...\n",
            "Processing image 9900/10000...\n",
            "Time taken: 3148.6890938282013\n",
            "Misclassification rate (k=1): 0.03090000000000004\n",
            "Misclassification rate (k=3): 0.02949999999999997\n"
          ]
        }
      ]
    },
    {
      "cell_type": "code",
      "source": [],
      "metadata": {
        "id": "IdWfUQCqKlh7"
      },
      "execution_count": null,
      "outputs": []
    }
  ]
}